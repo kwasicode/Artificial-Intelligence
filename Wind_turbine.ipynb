{
  "nbformat": 4,
  "nbformat_minor": 0,
  "metadata": {
    "colab": {
      "provenance": [],
      "authorship_tag": "ABX9TyMq0iFwzocJvvI/dzTxDpjU",
      "include_colab_link": true
    },
    "kernelspec": {
      "name": "python3",
      "display_name": "Python 3"
    },
    "language_info": {
      "name": "python"
    }
  },
  "cells": [
    {
      "cell_type": "markdown",
      "metadata": {
        "id": "view-in-github",
        "colab_type": "text"
      },
      "source": [
        "<a href=\"https://colab.research.google.com/github/kwasicode/Artificial-Intelligence/blob/main/Wind_turbine.ipynb\" target=\"_parent\"><img src=\"https://colab.research.google.com/assets/colab-badge.svg\" alt=\"Open In Colab\"/></a>"
      ]
    },
    {
      "cell_type": "markdown",
      "source": [
        " Import TensorFlow and dependencies"
      ],
      "metadata": {
        "id": "K64n6wTDrLhi"
      }
    },
    {
      "cell_type": "code",
      "execution_count": 387,
      "metadata": {
        "id": "Ka8PDZffJPy3"
      },
      "outputs": [],
      "source": [
        "import tensorflow as tf\n",
        "from tensorflow.keras import layers\n",
        "import pandas as pd\n",
        "import matplotlib.pyplot as plt\n",
        "import numpy as np\n",
        "from sklearn.model_selection import train_test_split"
      ]
    },
    {
      "cell_type": "markdown",
      "source": [
        "Upload the dataframe csv file"
      ],
      "metadata": {
        "id": "Z4hcYZpIrQv1"
      }
    },
    {
      "cell_type": "code",
      "source": [
        "dataset = pd.read_csv('/content/wind_dat_4.csv')\n",
        "dataset"
      ],
      "metadata": {
        "colab": {
          "base_uri": "https://localhost:8080/",
          "height": 424
        },
        "id": "GhMxRmUWJisG",
        "outputId": "b2ad81fc-881a-472e-dc39-cd6ba50767ba"
      },
      "execution_count": 388,
      "outputs": [
        {
          "output_type": "execute_result",
          "data": {
            "text/plain": [
              "     Time  Gearbox Temp  Generator Temp  Bearing Temp  Wind Speed  \\\n",
              "0       1          0.35           -1.73          0.35       -0.35   \n",
              "1       2          0.69           -1.73         -0.35        1.16   \n",
              "2       3          0.17           -1.73         -1.05        0.23   \n",
              "3       4         -0.52            1.73          1.05       -0.93   \n",
              "4       5         -1.04            1.73          0.69       -1.86   \n",
              "..    ...           ...             ...           ...         ...   \n",
              "125   126          0.35           -1.73          0.35       -0.35   \n",
              "126   127          0.69           -1.73         -0.35        1.16   \n",
              "127   128          0.17           -1.73         -1.05        0.23   \n",
              "128   129         -0.52            1.73          1.05       -0.93   \n",
              "129   130         -1.04            1.73          0.69       -1.86   \n",
              "\n",
              "     Power Output  Failure  \n",
              "0           -0.73        0  \n",
              "1            1.22        0  \n",
              "2            1.22        0  \n",
              "3           -1.47        0  \n",
              "4            0.41        1  \n",
              "..            ...      ...  \n",
              "125         -0.73        0  \n",
              "126          1.22        0  \n",
              "127          1.22        0  \n",
              "128         -1.47        0  \n",
              "129          0.41        1  \n",
              "\n",
              "[130 rows x 7 columns]"
            ],
            "text/html": [
              "\n",
              "  <div id=\"df-aab8bb71-ee91-4293-b928-172d5899df76\" class=\"colab-df-container\">\n",
              "    <div>\n",
              "<style scoped>\n",
              "    .dataframe tbody tr th:only-of-type {\n",
              "        vertical-align: middle;\n",
              "    }\n",
              "\n",
              "    .dataframe tbody tr th {\n",
              "        vertical-align: top;\n",
              "    }\n",
              "\n",
              "    .dataframe thead th {\n",
              "        text-align: right;\n",
              "    }\n",
              "</style>\n",
              "<table border=\"1\" class=\"dataframe\">\n",
              "  <thead>\n",
              "    <tr style=\"text-align: right;\">\n",
              "      <th></th>\n",
              "      <th>Time</th>\n",
              "      <th>Gearbox Temp</th>\n",
              "      <th>Generator Temp</th>\n",
              "      <th>Bearing Temp</th>\n",
              "      <th>Wind Speed</th>\n",
              "      <th>Power Output</th>\n",
              "      <th>Failure</th>\n",
              "    </tr>\n",
              "  </thead>\n",
              "  <tbody>\n",
              "    <tr>\n",
              "      <th>0</th>\n",
              "      <td>1</td>\n",
              "      <td>0.35</td>\n",
              "      <td>-1.73</td>\n",
              "      <td>0.35</td>\n",
              "      <td>-0.35</td>\n",
              "      <td>-0.73</td>\n",
              "      <td>0</td>\n",
              "    </tr>\n",
              "    <tr>\n",
              "      <th>1</th>\n",
              "      <td>2</td>\n",
              "      <td>0.69</td>\n",
              "      <td>-1.73</td>\n",
              "      <td>-0.35</td>\n",
              "      <td>1.16</td>\n",
              "      <td>1.22</td>\n",
              "      <td>0</td>\n",
              "    </tr>\n",
              "    <tr>\n",
              "      <th>2</th>\n",
              "      <td>3</td>\n",
              "      <td>0.17</td>\n",
              "      <td>-1.73</td>\n",
              "      <td>-1.05</td>\n",
              "      <td>0.23</td>\n",
              "      <td>1.22</td>\n",
              "      <td>0</td>\n",
              "    </tr>\n",
              "    <tr>\n",
              "      <th>3</th>\n",
              "      <td>4</td>\n",
              "      <td>-0.52</td>\n",
              "      <td>1.73</td>\n",
              "      <td>1.05</td>\n",
              "      <td>-0.93</td>\n",
              "      <td>-1.47</td>\n",
              "      <td>0</td>\n",
              "    </tr>\n",
              "    <tr>\n",
              "      <th>4</th>\n",
              "      <td>5</td>\n",
              "      <td>-1.04</td>\n",
              "      <td>1.73</td>\n",
              "      <td>0.69</td>\n",
              "      <td>-1.86</td>\n",
              "      <td>0.41</td>\n",
              "      <td>1</td>\n",
              "    </tr>\n",
              "    <tr>\n",
              "      <th>...</th>\n",
              "      <td>...</td>\n",
              "      <td>...</td>\n",
              "      <td>...</td>\n",
              "      <td>...</td>\n",
              "      <td>...</td>\n",
              "      <td>...</td>\n",
              "      <td>...</td>\n",
              "    </tr>\n",
              "    <tr>\n",
              "      <th>125</th>\n",
              "      <td>126</td>\n",
              "      <td>0.35</td>\n",
              "      <td>-1.73</td>\n",
              "      <td>0.35</td>\n",
              "      <td>-0.35</td>\n",
              "      <td>-0.73</td>\n",
              "      <td>0</td>\n",
              "    </tr>\n",
              "    <tr>\n",
              "      <th>126</th>\n",
              "      <td>127</td>\n",
              "      <td>0.69</td>\n",
              "      <td>-1.73</td>\n",
              "      <td>-0.35</td>\n",
              "      <td>1.16</td>\n",
              "      <td>1.22</td>\n",
              "      <td>0</td>\n",
              "    </tr>\n",
              "    <tr>\n",
              "      <th>127</th>\n",
              "      <td>128</td>\n",
              "      <td>0.17</td>\n",
              "      <td>-1.73</td>\n",
              "      <td>-1.05</td>\n",
              "      <td>0.23</td>\n",
              "      <td>1.22</td>\n",
              "      <td>0</td>\n",
              "    </tr>\n",
              "    <tr>\n",
              "      <th>128</th>\n",
              "      <td>129</td>\n",
              "      <td>-0.52</td>\n",
              "      <td>1.73</td>\n",
              "      <td>1.05</td>\n",
              "      <td>-0.93</td>\n",
              "      <td>-1.47</td>\n",
              "      <td>0</td>\n",
              "    </tr>\n",
              "    <tr>\n",
              "      <th>129</th>\n",
              "      <td>130</td>\n",
              "      <td>-1.04</td>\n",
              "      <td>1.73</td>\n",
              "      <td>0.69</td>\n",
              "      <td>-1.86</td>\n",
              "      <td>0.41</td>\n",
              "      <td>1</td>\n",
              "    </tr>\n",
              "  </tbody>\n",
              "</table>\n",
              "<p>130 rows × 7 columns</p>\n",
              "</div>\n",
              "    <div class=\"colab-df-buttons\">\n",
              "\n",
              "  <div class=\"colab-df-container\">\n",
              "    <button class=\"colab-df-convert\" onclick=\"convertToInteractive('df-aab8bb71-ee91-4293-b928-172d5899df76')\"\n",
              "            title=\"Convert this dataframe to an interactive table.\"\n",
              "            style=\"display:none;\">\n",
              "\n",
              "  <svg xmlns=\"http://www.w3.org/2000/svg\" height=\"24px\" viewBox=\"0 -960 960 960\">\n",
              "    <path d=\"M120-120v-720h720v720H120Zm60-500h600v-160H180v160Zm220 220h160v-160H400v160Zm0 220h160v-160H400v160ZM180-400h160v-160H180v160Zm440 0h160v-160H620v160ZM180-180h160v-160H180v160Zm440 0h160v-160H620v160Z\"/>\n",
              "  </svg>\n",
              "    </button>\n",
              "\n",
              "  <style>\n",
              "    .colab-df-container {\n",
              "      display:flex;\n",
              "      gap: 12px;\n",
              "    }\n",
              "\n",
              "    .colab-df-convert {\n",
              "      background-color: #E8F0FE;\n",
              "      border: none;\n",
              "      border-radius: 50%;\n",
              "      cursor: pointer;\n",
              "      display: none;\n",
              "      fill: #1967D2;\n",
              "      height: 32px;\n",
              "      padding: 0 0 0 0;\n",
              "      width: 32px;\n",
              "    }\n",
              "\n",
              "    .colab-df-convert:hover {\n",
              "      background-color: #E2EBFA;\n",
              "      box-shadow: 0px 1px 2px rgba(60, 64, 67, 0.3), 0px 1px 3px 1px rgba(60, 64, 67, 0.15);\n",
              "      fill: #174EA6;\n",
              "    }\n",
              "\n",
              "    .colab-df-buttons div {\n",
              "      margin-bottom: 4px;\n",
              "    }\n",
              "\n",
              "    [theme=dark] .colab-df-convert {\n",
              "      background-color: #3B4455;\n",
              "      fill: #D2E3FC;\n",
              "    }\n",
              "\n",
              "    [theme=dark] .colab-df-convert:hover {\n",
              "      background-color: #434B5C;\n",
              "      box-shadow: 0px 1px 3px 1px rgba(0, 0, 0, 0.15);\n",
              "      filter: drop-shadow(0px 1px 2px rgba(0, 0, 0, 0.3));\n",
              "      fill: #FFFFFF;\n",
              "    }\n",
              "  </style>\n",
              "\n",
              "    <script>\n",
              "      const buttonEl =\n",
              "        document.querySelector('#df-aab8bb71-ee91-4293-b928-172d5899df76 button.colab-df-convert');\n",
              "      buttonEl.style.display =\n",
              "        google.colab.kernel.accessAllowed ? 'block' : 'none';\n",
              "\n",
              "      async function convertToInteractive(key) {\n",
              "        const element = document.querySelector('#df-aab8bb71-ee91-4293-b928-172d5899df76');\n",
              "        const dataTable =\n",
              "          await google.colab.kernel.invokeFunction('convertToInteractive',\n",
              "                                                    [key], {});\n",
              "        if (!dataTable) return;\n",
              "\n",
              "        const docLinkHtml = 'Like what you see? Visit the ' +\n",
              "          '<a target=\"_blank\" href=https://colab.research.google.com/notebooks/data_table.ipynb>data table notebook</a>'\n",
              "          + ' to learn more about interactive tables.';\n",
              "        element.innerHTML = '';\n",
              "        dataTable['output_type'] = 'display_data';\n",
              "        await google.colab.output.renderOutput(dataTable, element);\n",
              "        const docLink = document.createElement('div');\n",
              "        docLink.innerHTML = docLinkHtml;\n",
              "        element.appendChild(docLink);\n",
              "      }\n",
              "    </script>\n",
              "  </div>\n",
              "\n",
              "\n",
              "<div id=\"df-06fd5b72-3d26-4bcd-9aad-7ad1e2e8474c\">\n",
              "  <button class=\"colab-df-quickchart\" onclick=\"quickchart('df-06fd5b72-3d26-4bcd-9aad-7ad1e2e8474c')\"\n",
              "            title=\"Suggest charts\"\n",
              "            style=\"display:none;\">\n",
              "\n",
              "<svg xmlns=\"http://www.w3.org/2000/svg\" height=\"24px\"viewBox=\"0 0 24 24\"\n",
              "     width=\"24px\">\n",
              "    <g>\n",
              "        <path d=\"M19 3H5c-1.1 0-2 .9-2 2v14c0 1.1.9 2 2 2h14c1.1 0 2-.9 2-2V5c0-1.1-.9-2-2-2zM9 17H7v-7h2v7zm4 0h-2V7h2v10zm4 0h-2v-4h2v4z\"/>\n",
              "    </g>\n",
              "</svg>\n",
              "  </button>\n",
              "\n",
              "<style>\n",
              "  .colab-df-quickchart {\n",
              "      --bg-color: #E8F0FE;\n",
              "      --fill-color: #1967D2;\n",
              "      --hover-bg-color: #E2EBFA;\n",
              "      --hover-fill-color: #174EA6;\n",
              "      --disabled-fill-color: #AAA;\n",
              "      --disabled-bg-color: #DDD;\n",
              "  }\n",
              "\n",
              "  [theme=dark] .colab-df-quickchart {\n",
              "      --bg-color: #3B4455;\n",
              "      --fill-color: #D2E3FC;\n",
              "      --hover-bg-color: #434B5C;\n",
              "      --hover-fill-color: #FFFFFF;\n",
              "      --disabled-bg-color: #3B4455;\n",
              "      --disabled-fill-color: #666;\n",
              "  }\n",
              "\n",
              "  .colab-df-quickchart {\n",
              "    background-color: var(--bg-color);\n",
              "    border: none;\n",
              "    border-radius: 50%;\n",
              "    cursor: pointer;\n",
              "    display: none;\n",
              "    fill: var(--fill-color);\n",
              "    height: 32px;\n",
              "    padding: 0;\n",
              "    width: 32px;\n",
              "  }\n",
              "\n",
              "  .colab-df-quickchart:hover {\n",
              "    background-color: var(--hover-bg-color);\n",
              "    box-shadow: 0 1px 2px rgba(60, 64, 67, 0.3), 0 1px 3px 1px rgba(60, 64, 67, 0.15);\n",
              "    fill: var(--button-hover-fill-color);\n",
              "  }\n",
              "\n",
              "  .colab-df-quickchart-complete:disabled,\n",
              "  .colab-df-quickchart-complete:disabled:hover {\n",
              "    background-color: var(--disabled-bg-color);\n",
              "    fill: var(--disabled-fill-color);\n",
              "    box-shadow: none;\n",
              "  }\n",
              "\n",
              "  .colab-df-spinner {\n",
              "    border: 2px solid var(--fill-color);\n",
              "    border-color: transparent;\n",
              "    border-bottom-color: var(--fill-color);\n",
              "    animation:\n",
              "      spin 1s steps(1) infinite;\n",
              "  }\n",
              "\n",
              "  @keyframes spin {\n",
              "    0% {\n",
              "      border-color: transparent;\n",
              "      border-bottom-color: var(--fill-color);\n",
              "      border-left-color: var(--fill-color);\n",
              "    }\n",
              "    20% {\n",
              "      border-color: transparent;\n",
              "      border-left-color: var(--fill-color);\n",
              "      border-top-color: var(--fill-color);\n",
              "    }\n",
              "    30% {\n",
              "      border-color: transparent;\n",
              "      border-left-color: var(--fill-color);\n",
              "      border-top-color: var(--fill-color);\n",
              "      border-right-color: var(--fill-color);\n",
              "    }\n",
              "    40% {\n",
              "      border-color: transparent;\n",
              "      border-right-color: var(--fill-color);\n",
              "      border-top-color: var(--fill-color);\n",
              "    }\n",
              "    60% {\n",
              "      border-color: transparent;\n",
              "      border-right-color: var(--fill-color);\n",
              "    }\n",
              "    80% {\n",
              "      border-color: transparent;\n",
              "      border-right-color: var(--fill-color);\n",
              "      border-bottom-color: var(--fill-color);\n",
              "    }\n",
              "    90% {\n",
              "      border-color: transparent;\n",
              "      border-bottom-color: var(--fill-color);\n",
              "    }\n",
              "  }\n",
              "</style>\n",
              "\n",
              "  <script>\n",
              "    async function quickchart(key) {\n",
              "      const quickchartButtonEl =\n",
              "        document.querySelector('#' + key + ' button');\n",
              "      quickchartButtonEl.disabled = true;  // To prevent multiple clicks.\n",
              "      quickchartButtonEl.classList.add('colab-df-spinner');\n",
              "      try {\n",
              "        const charts = await google.colab.kernel.invokeFunction(\n",
              "            'suggestCharts', [key], {});\n",
              "      } catch (error) {\n",
              "        console.error('Error during call to suggestCharts:', error);\n",
              "      }\n",
              "      quickchartButtonEl.classList.remove('colab-df-spinner');\n",
              "      quickchartButtonEl.classList.add('colab-df-quickchart-complete');\n",
              "    }\n",
              "    (() => {\n",
              "      let quickchartButtonEl =\n",
              "        document.querySelector('#df-06fd5b72-3d26-4bcd-9aad-7ad1e2e8474c button');\n",
              "      quickchartButtonEl.style.display =\n",
              "        google.colab.kernel.accessAllowed ? 'block' : 'none';\n",
              "    })();\n",
              "  </script>\n",
              "</div>\n",
              "    </div>\n",
              "  </div>\n"
            ]
          },
          "metadata": {},
          "execution_count": 388
        }
      ]
    },
    {
      "cell_type": "markdown",
      "source": [
        "Data preparation"
      ],
      "metadata": {
        "id": "JLQo8HSLraai"
      }
    },
    {
      "cell_type": "code",
      "source": [
        "# Function to generate input/output sequences\n",
        "def to_windows(df, sequence_length):\n",
        "    X = []\n",
        "    y = []\n",
        "\n",
        "    for i in range(len(df) - sequence_length):\n",
        "        seq = df.iloc[i:i+sequence_length].values\n",
        "        label = df.iloc[i+sequence_length]['Failure']\n",
        "\n",
        "        X.append(seq)\n",
        "        y.append(label)\n",
        "\n",
        "    return np.array(X), np.array(y)"
      ],
      "metadata": {
        "id": "wKKVbusjO7M-"
      },
      "execution_count": 389,
      "outputs": []
    },
    {
      "cell_type": "code",
      "source": [
        "print(\"Original dataset shape:\", dataset.shape)\n",
        "print(\"Sample data from the dataset:\", dataset[:5])"
      ],
      "metadata": {
        "colab": {
          "base_uri": "https://localhost:8080/"
        },
        "id": "Om4NdujoQkHG",
        "outputId": "908107fe-95b5-4849-9d1d-148fa5b5a881"
      },
      "execution_count": 390,
      "outputs": [
        {
          "output_type": "stream",
          "name": "stdout",
          "text": [
            "Original dataset shape: (130, 7)\n",
            "Sample data from the dataset:    Time  Gearbox Temp  Generator Temp  Bearing Temp  Wind Speed  Power Output  \\\n",
            "0     1          0.35           -1.73          0.35       -0.35         -0.73   \n",
            "1     2          0.69           -1.73         -0.35        1.16          1.22   \n",
            "2     3          0.17           -1.73         -1.05        0.23          1.22   \n",
            "3     4         -0.52            1.73          1.05       -0.93         -1.47   \n",
            "4     5         -1.04            1.73          0.69       -1.86          0.41   \n",
            "\n",
            "   Failure  \n",
            "0        0  \n",
            "1        0  \n",
            "2        0  \n",
            "3        0  \n",
            "4        1  \n"
          ]
        }
      ]
    },
    {
      "cell_type": "code",
      "source": [
        "print(\"X shape:\", X.shape)\n",
        "print(\"y shape:\", y.shape)"
      ],
      "metadata": {
        "colab": {
          "base_uri": "https://localhost:8080/"
        },
        "id": "oMBJ4NwyP7W-",
        "outputId": "399591ec-2183-4f3d-8fbd-7167d580021f"
      },
      "execution_count": 391,
      "outputs": [
        {
          "output_type": "stream",
          "name": "stdout",
          "text": [
            "X shape: (128, 2, 7)\n",
            "y shape: (128,)\n"
          ]
        }
      ]
    },
    {
      "cell_type": "code",
      "source": [
        "seq_length = 2\n",
        "X, y = to_windows(dataset, seq_length)\n",
        "\n",
        "train_split = 0.8\n",
        "X_train, X_test, y_train, y_test = train_test_split(X, y, test_size=1-train_split)"
      ],
      "metadata": {
        "id": "jxdS0GfOPHYF"
      },
      "execution_count": 392,
      "outputs": []
    },
    {
      "cell_type": "markdown",
      "source": [
        "Build LSTM model"
      ],
      "metadata": {
        "id": "xUd3i4tOsU4D"
      }
    },
    {
      "cell_type": "code",
      "source": [
        "model = tf.keras.Sequential([\n",
        "    layers.LSTM(32, return_sequences=True),\n",
        "    layers.Dropout(0.5),\n",
        "    layers.LSTM(8),\n",
        "    layers.Dense(1)\n",
        "])\n",
        "model.compile(loss='mae', optimizer='adam',  metrics=['accuracy'])\n",
        "model"
      ],
      "metadata": {
        "colab": {
          "base_uri": "https://localhost:8080/"
        },
        "id": "H_RvLqcDSX-Y",
        "outputId": "677cd36c-7d5e-4a16-f074-624292db1327"
      },
      "execution_count": 393,
      "outputs": [
        {
          "output_type": "execute_result",
          "data": {
            "text/plain": [
              "<keras.src.engine.sequential.Sequential at 0x79ebb48bb760>"
            ]
          },
          "metadata": {},
          "execution_count": 393
        }
      ]
    },
    {
      "cell_type": "markdown",
      "source": [
        "Train model"
      ],
      "metadata": {
        "id": "tv4_B2tjsbjQ"
      }
    },
    {
      "cell_type": "code",
      "source": [
        "\n",
        "\n",
        "history = model.fit(X_train, y_train, epochs=20, validation_split=0.2)"
      ],
      "metadata": {
        "colab": {
          "base_uri": "https://localhost:8080/"
        },
        "id": "bRIoavcEbq0r",
        "outputId": "c0fe25d1-6fa0-4d29-d34d-bced9782d55b"
      },
      "execution_count": 394,
      "outputs": [
        {
          "output_type": "stream",
          "name": "stdout",
          "text": [
            "Epoch 1/20\n",
            "3/3 [==============================] - 5s 470ms/step - loss: 0.2526 - accuracy: 0.8395 - val_loss: 0.3018 - val_accuracy: 0.7143\n",
            "Epoch 2/20\n",
            "3/3 [==============================] - 0s 20ms/step - loss: 0.2517 - accuracy: 0.8395 - val_loss: 0.3068 - val_accuracy: 0.7143\n",
            "Epoch 3/20\n",
            "3/3 [==============================] - 0s 19ms/step - loss: 0.2485 - accuracy: 0.8395 - val_loss: 0.3073 - val_accuracy: 0.7143\n",
            "Epoch 4/20\n",
            "3/3 [==============================] - 0s 21ms/step - loss: 0.2375 - accuracy: 0.8395 - val_loss: 0.3208 - val_accuracy: 0.7143\n",
            "Epoch 5/20\n",
            "3/3 [==============================] - 0s 20ms/step - loss: 0.2428 - accuracy: 0.8395 - val_loss: 0.3250 - val_accuracy: 0.7143\n",
            "Epoch 6/20\n",
            "3/3 [==============================] - 0s 22ms/step - loss: 0.2358 - accuracy: 0.8395 - val_loss: 0.3134 - val_accuracy: 0.7143\n",
            "Epoch 7/20\n",
            "3/3 [==============================] - 0s 20ms/step - loss: 0.2175 - accuracy: 0.8395 - val_loss: 0.3210 - val_accuracy: 0.7143\n",
            "Epoch 8/20\n",
            "3/3 [==============================] - 0s 21ms/step - loss: 0.2153 - accuracy: 0.8395 - val_loss: 0.3079 - val_accuracy: 0.7143\n",
            "Epoch 9/20\n",
            "3/3 [==============================] - 0s 20ms/step - loss: 0.2163 - accuracy: 0.8395 - val_loss: 0.2955 - val_accuracy: 0.7143\n",
            "Epoch 10/20\n",
            "3/3 [==============================] - 0s 22ms/step - loss: 0.2058 - accuracy: 0.8395 - val_loss: 0.3004 - val_accuracy: 0.7143\n",
            "Epoch 11/20\n",
            "3/3 [==============================] - 0s 21ms/step - loss: 0.2063 - accuracy: 0.8395 - val_loss: 0.3081 - val_accuracy: 0.7143\n",
            "Epoch 12/20\n",
            "3/3 [==============================] - 0s 21ms/step - loss: 0.2105 - accuracy: 0.8395 - val_loss: 0.3150 - val_accuracy: 0.7143\n",
            "Epoch 13/20\n",
            "3/3 [==============================] - 0s 30ms/step - loss: 0.1945 - accuracy: 0.8395 - val_loss: 0.3058 - val_accuracy: 0.7143\n",
            "Epoch 14/20\n",
            "3/3 [==============================] - 0s 20ms/step - loss: 0.1934 - accuracy: 0.8395 - val_loss: 0.2971 - val_accuracy: 0.7143\n",
            "Epoch 15/20\n",
            "3/3 [==============================] - 0s 21ms/step - loss: 0.1973 - accuracy: 0.8395 - val_loss: 0.2890 - val_accuracy: 0.7143\n",
            "Epoch 16/20\n",
            "3/3 [==============================] - 0s 36ms/step - loss: 0.2007 - accuracy: 0.8395 - val_loss: 0.2893 - val_accuracy: 0.7143\n",
            "Epoch 17/20\n",
            "3/3 [==============================] - 0s 20ms/step - loss: 0.1892 - accuracy: 0.8395 - val_loss: 0.2982 - val_accuracy: 0.7143\n",
            "Epoch 18/20\n",
            "3/3 [==============================] - 0s 28ms/step - loss: 0.1938 - accuracy: 0.8395 - val_loss: 0.3007 - val_accuracy: 0.7143\n",
            "Epoch 19/20\n",
            "3/3 [==============================] - 0s 22ms/step - loss: 0.1958 - accuracy: 0.8395 - val_loss: 0.3008 - val_accuracy: 0.7143\n",
            "Epoch 20/20\n",
            "3/3 [==============================] - 0s 27ms/step - loss: 0.1870 - accuracy: 0.8395 - val_loss: 0.2930 - val_accuracy: 0.7143\n"
          ]
        }
      ]
    },
    {
      "cell_type": "markdown",
      "source": [
        "Model Evaluation"
      ],
      "metadata": {
        "id": "xpvEHUE0tcd7"
      }
    },
    {
      "cell_type": "code",
      "source": [
        "import matplotlib.pyplot as plt\n",
        "\n",
        "def plot_loss(history):\n",
        "    plt.figure(figsize=(8, 6))\n",
        "    plt.plot(history.history['loss'], label='Training Loss')\n",
        "    plt.plot(history.history['val_loss'], label='Validation Loss')\n",
        "    plt.title('Model Loss')\n",
        "    plt.ylabel('Loss')\n",
        "    plt.xlabel('Epoch')\n",
        "    plt.legend()\n",
        "    plt.show()\n"
      ],
      "metadata": {
        "id": "2_UIR2dLdLQa"
      },
      "execution_count": 395,
      "outputs": []
    },
    {
      "cell_type": "markdown",
      "source": [
        "Plot Model loss"
      ],
      "metadata": {
        "id": "TslEtDUcylxR"
      }
    },
    {
      "cell_type": "code",
      "source": [
        " plt.plot(history.history['loss'])\n",
        "plt.plot(history.history['val_loss'])\n",
        "plt.title('Model Loss')\n",
        "plt.ylabel('Loss')\n",
        "plt.xlabel('Epoch')\n",
        "plt.legend(['Train', 'Val'], loc='upper right')\n",
        "plt.show()\n"
      ],
      "metadata": {
        "colab": {
          "base_uri": "https://localhost:8080/",
          "height": 472
        },
        "id": "c5vkUMEgfh88",
        "outputId": "0277ed2c-0355-4e9f-eb6d-65a89cc93ef4"
      },
      "execution_count": 396,
      "outputs": [
        {
          "output_type": "display_data",
          "data": {
            "text/plain": [
              "<Figure size 640x480 with 1 Axes>"
            ],
            "image/png": "[encoded data removed]"
          },
          "metadata": {}
        }
      ]
    },
    {
      "cell_type": "markdown",
      "source": [
        "Evaluate model loss and accuracy"
      ],
      "metadata": {
        "id": "mj_R7Z8Qywps"
      }
    },
    {
      "cell_type": "code",
      "source": [
        "loss, accuracy = model.evaluate(X_test, y_test)\n",
        "print(f\"Test Loss: {loss}\")\n",
        "print(f\"Test Accuracy: {accuracy}\")"
      ],
      "metadata": {
        "colab": {
          "base_uri": "https://localhost:8080/"
        },
        "id": "6HA--ckffxgt",
        "outputId": "2aa3538e-f93e-4669-b5cb-71aea64db424"
      },
      "execution_count": 397,
      "outputs": [
        {
          "output_type": "stream",
          "name": "stdout",
          "text": [
            "1/1 [==============================] - 0s 29ms/step - loss: 0.2844 - accuracy: 0.7308\n",
            "Test Loss: 0.2843696177005768\n",
            "Test Accuracy: 0.7307692170143127\n"
          ]
        }
      ]
    },
    {
      "cell_type": "markdown",
      "source": [
        "Model predictions"
      ],
      "metadata": {
        "id": "BwKJb3KRy7Vj"
      }
    },
    {
      "cell_type": "code",
      "source": [
        "test_scores = model.evaluate(X_test, y_test, verbose=2)\n",
        "\n",
        "# Plot test set predictions\n",
        "y_pred = model.predict(X_test)\n",
        "plt.plot(X_test[:, -1, 0], y_test, 'bo', label=\"Actual\") # x-axis as times\n",
        "plt.plot(X_test[:, -1, 0], y_pred, 'ro', label=\"Predicted\")\n",
        "plt.legend()\n",
        "plt.show()"
      ],
      "metadata": {
        "colab": {
          "base_uri": "https://localhost:8080/",
          "height": 502
        },
        "id": "JYgLPNpNppdZ",
        "outputId": "6ff3be43-9df2-4c43-cb79-0d52ab4940eb"
      },
      "execution_count": 398,
      "outputs": [
        {
          "output_type": "stream",
          "name": "stdout",
          "text": [
            "1/1 - 0s - loss: 0.2844 - accuracy: 0.7308 - 22ms/epoch - 22ms/step\n"
          ]
        },
        {
          "output_type": "stream",
          "name": "stderr",
          "text": [
            "WARNING:tensorflow:6 out of the last 9 calls to <function Model.make_predict_function.<locals>.predict_function at 0x79eba3713640> triggered tf.function retracing. Tracing is expensive and the excessive number of tracings could be due to (1) creating @tf.function repeatedly in a loop, (2) passing tensors with different shapes, (3) passing Python objects instead of tensors. For (1), please define your @tf.function outside of the loop. For (2), @tf.function has reduce_retracing=True option that can avoid unnecessary retracing. For (3), please refer to https://www.tensorflow.org/guide/function#controlling_retracing and https://www.tensorflow.org/api_docs/python/tf/function for  more details.\n"
          ]
        },
        {
          "output_type": "stream",
          "name": "stdout",
          "text": [
            "1/1 [==============================] - 1s 1s/step\n"
          ]
        },
        {
          "output_type": "display_data",
          "data": {
            "text/plain": [
              "<Figure size 640x480 with 1 Axes>"
            ],
            "image/png": "[encoded data removed]"
          },
          "metadata": {}
        }
      ]
    },
    {
      "cell_type": "code",
      "source": [
        "from sklearn.metrics import confusion_matrix\n",
        "\n",
        "y_pred_labels = np.where(y_pred > 0.5, 1, 0)\n",
        "cm = confusion_matrix(y_test, y_pred_labels)\n",
        "\n",
        "\n",
        "import seaborn as sns\n",
        "import matplotlib.pyplot as plt\n",
        "\n",
        "sns.heatmap(cm, annot=True, fmt='g')\n",
        "plt.xlabel('Predicted labels')\n",
        "plt.ylabel('True labels')\n",
        "plt.title('Confusion Matrix')\n",
        "plt.show()"
      ],
      "metadata": {
        "colab": {
          "base_uri": "https://localhost:8080/",
          "height": 472
        },
        "id": "ve_utNNozsBt",
        "outputId": "27deb572-c7cc-4a93-a4ed-0a0eb8a4f3f0"
      },
      "execution_count": 404,
      "outputs": [
        {
          "output_type": "display_data",
          "data": {
            "text/plain": [
              "<Figure size 640x480 with 2 Axes>"
            ],
            "image/png": "[encoded data removed]"
          },
          "metadata": {}
        }
      ]
    }
  ]
}